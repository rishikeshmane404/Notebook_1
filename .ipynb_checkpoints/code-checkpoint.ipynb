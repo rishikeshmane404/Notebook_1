{
 "cells": [
  {
   "cell_type": "code",
   "execution_count": 1,
   "id": "484e43c3-d50a-448c-8af7-d42ebae9f595",
   "metadata": {},
   "outputs": [
    {
     "name": "stdout",
     "output_type": "stream",
     "text": [
      "Requirement already satisfied: pandas in c:\\users\\rishikesh.mane\\appdata\\local\\programs\\python\\python312\\lib\\site-packages (2.2.2)\n",
      "Requirement already satisfied: matplotlib in c:\\users\\rishikesh.mane\\appdata\\local\\programs\\python\\python312\\lib\\site-packages (3.9.0)\n",
      "Requirement already satisfied: requests in c:\\users\\rishikesh.mane\\appdata\\local\\programs\\python\\python312\\lib\\site-packages (2.31.0)\n",
      "Requirement already satisfied: numpy>=1.26.0 in c:\\users\\rishikesh.mane\\appdata\\local\\programs\\python\\python312\\lib\\site-packages (from pandas) (1.26.4)\n",
      "Requirement already satisfied: python-dateutil>=2.8.2 in c:\\users\\rishikesh.mane\\appdata\\local\\programs\\python\\python312\\lib\\site-packages (from pandas) (2.9.0.post0)\n",
      "Requirement already satisfied: pytz>=2020.1 in c:\\users\\rishikesh.mane\\appdata\\local\\programs\\python\\python312\\lib\\site-packages (from pandas) (2024.1)\n",
      "Requirement already satisfied: tzdata>=2022.7 in c:\\users\\rishikesh.mane\\appdata\\local\\programs\\python\\python312\\lib\\site-packages (from pandas) (2024.1)\n",
      "Requirement already satisfied: contourpy>=1.0.1 in c:\\users\\rishikesh.mane\\appdata\\local\\programs\\python\\python312\\lib\\site-packages (from matplotlib) (1.2.1)\n",
      "Requirement already satisfied: cycler>=0.10 in c:\\users\\rishikesh.mane\\appdata\\local\\programs\\python\\python312\\lib\\site-packages (from matplotlib) (0.12.1)\n",
      "Requirement already satisfied: fonttools>=4.22.0 in c:\\users\\rishikesh.mane\\appdata\\local\\programs\\python\\python312\\lib\\site-packages (from matplotlib) (4.51.0)\n",
      "Requirement already satisfied: kiwisolver>=1.3.1 in c:\\users\\rishikesh.mane\\appdata\\local\\programs\\python\\python312\\lib\\site-packages (from matplotlib) (1.4.5)\n",
      "Requirement already satisfied: packaging>=20.0 in c:\\users\\rishikesh.mane\\appdata\\local\\programs\\python\\python312\\lib\\site-packages (from matplotlib) (24.0)\n",
      "Requirement already satisfied: pillow>=8 in c:\\users\\rishikesh.mane\\appdata\\local\\programs\\python\\python312\\lib\\site-packages (from matplotlib) (10.3.0)\n",
      "Requirement already satisfied: pyparsing>=2.3.1 in c:\\users\\rishikesh.mane\\appdata\\local\\programs\\python\\python312\\lib\\site-packages (from matplotlib) (3.1.2)\n",
      "Requirement already satisfied: charset-normalizer<4,>=2 in c:\\users\\rishikesh.mane\\appdata\\local\\programs\\python\\python312\\lib\\site-packages (from requests) (3.3.2)\n",
      "Requirement already satisfied: idna<4,>=2.5 in c:\\users\\rishikesh.mane\\appdata\\local\\programs\\python\\python312\\lib\\site-packages (from requests) (3.7)\n",
      "Requirement already satisfied: urllib3<3,>=1.21.1 in c:\\users\\rishikesh.mane\\appdata\\local\\programs\\python\\python312\\lib\\site-packages (from requests) (2.2.1)\n",
      "Requirement already satisfied: certifi>=2017.4.17 in c:\\users\\rishikesh.mane\\appdata\\local\\programs\\python\\python312\\lib\\site-packages (from requests) (2024.2.2)\n",
      "Requirement already satisfied: six>=1.5 in c:\\users\\rishikesh.mane\\appdata\\local\\programs\\python\\python312\\lib\\site-packages (from python-dateutil>=2.8.2->pandas) (1.16.0)\n",
      "Collecting pycountry-convert\n",
      "  Downloading pycountry_convert-0.7.2-py3-none-any.whl.metadata (7.2 kB)\n",
      "Collecting pprintpp>=0.3.0 (from pycountry-convert)\n",
      "  Downloading pprintpp-0.4.0-py2.py3-none-any.whl.metadata (7.9 kB)\n",
      "Collecting pycountry>=16.11.27.1 (from pycountry-convert)\n",
      "  Downloading pycountry-23.12.11-py3-none-any.whl.metadata (12 kB)\n",
      "Collecting pytest>=3.4.0 (from pycountry-convert)\n",
      "  Downloading pytest-8.2.1-py3-none-any.whl.metadata (7.6 kB)\n",
      "Collecting pytest-mock>=1.6.3 (from pycountry-convert)\n",
      "  Downloading pytest_mock-3.14.0-py3-none-any.whl.metadata (3.8 kB)\n",
      "Collecting pytest-cov>=2.5.1 (from pycountry-convert)\n",
      "  Downloading pytest_cov-5.0.0-py3-none-any.whl.metadata (27 kB)\n",
      "Collecting repoze.lru>=0.7 (from pycountry-convert)\n",
      "  Downloading repoze.lru-0.7-py3-none-any.whl.metadata (1.1 kB)\n",
      "Collecting wheel>=0.30.0 (from pycountry-convert)\n",
      "  Downloading wheel-0.43.0-py3-none-any.whl.metadata (2.2 kB)\n",
      "Collecting iniconfig (from pytest>=3.4.0->pycountry-convert)\n",
      "  Downloading iniconfig-2.0.0-py3-none-any.whl.metadata (2.6 kB)\n",
      "Requirement already satisfied: packaging in c:\\users\\rishikesh.mane\\appdata\\local\\programs\\python\\python312\\lib\\site-packages (from pytest>=3.4.0->pycountry-convert) (24.0)\n",
      "Collecting pluggy<2.0,>=1.5 (from pytest>=3.4.0->pycountry-convert)\n",
      "  Downloading pluggy-1.5.0-py3-none-any.whl.metadata (4.8 kB)\n",
      "Requirement already satisfied: colorama in c:\\users\\rishikesh.mane\\appdata\\local\\programs\\python\\python312\\lib\\site-packages (from pytest>=3.4.0->pycountry-convert) (0.4.6)\n",
      "Collecting coverage>=5.2.1 (from coverage[toml]>=5.2.1->pytest-cov>=2.5.1->pycountry-convert)\n",
      "  Downloading coverage-7.5.3-cp312-cp312-win_amd64.whl.metadata (8.4 kB)\n",
      "Downloading pycountry_convert-0.7.2-py3-none-any.whl (13 kB)\n",
      "Downloading pprintpp-0.4.0-py2.py3-none-any.whl (16 kB)\n",
      "Downloading pycountry-23.12.11-py3-none-any.whl (6.2 MB)\n",
      "   ---------------------------------------- 0.0/6.2 MB ? eta -:--:--\n",
      "   -- ------------------------------------- 0.4/6.2 MB 7.6 MB/s eta 0:00:01\n",
      "   --- ------------------------------------ 0.5/6.2 MB 6.8 MB/s eta 0:00:01\n",
      "   ----- ---------------------------------- 0.8/6.2 MB 6.2 MB/s eta 0:00:01\n",
      "   ------ --------------------------------- 1.0/6.2 MB 6.4 MB/s eta 0:00:01\n",
      "   ------- -------------------------------- 1.2/6.2 MB 5.6 MB/s eta 0:00:01\n",
      "   --------- ------------------------------ 1.5/6.2 MB 5.5 MB/s eta 0:00:01\n",
      "   ----------- ---------------------------- 1.7/6.2 MB 5.4 MB/s eta 0:00:01\n",
      "   ------------ --------------------------- 1.9/6.2 MB 5.4 MB/s eta 0:00:01\n",
      "   -------------- ------------------------- 2.2/6.2 MB 5.3 MB/s eta 0:00:01\n",
      "   --------------- ------------------------ 2.4/6.2 MB 5.3 MB/s eta 0:00:01\n",
      "   ----------------- ---------------------- 2.7/6.2 MB 5.3 MB/s eta 0:00:01\n",
      "   ------------------ --------------------- 2.9/6.2 MB 5.3 MB/s eta 0:00:01\n",
      "   -------------------- ------------------- 3.1/6.2 MB 5.2 MB/s eta 0:00:01\n",
      "   --------------------- ------------------ 3.4/6.2 MB 5.2 MB/s eta 0:00:01\n",
      "   ----------------------- ---------------- 3.6/6.2 MB 5.2 MB/s eta 0:00:01\n",
      "   ------------------------ --------------- 3.8/6.2 MB 5.2 MB/s eta 0:00:01\n",
      "   -------------------------- ------------- 4.1/6.2 MB 5.2 MB/s eta 0:00:01\n",
      "   --------------------------- ------------ 4.3/6.2 MB 5.2 MB/s eta 0:00:01\n",
      "   ---------------------------- ----------- 4.5/6.2 MB 5.1 MB/s eta 0:00:01\n",
      "   ------------------------------ --------- 4.8/6.2 MB 5.2 MB/s eta 0:00:01\n",
      "   -------------------------------- ------- 5.0/6.2 MB 5.1 MB/s eta 0:00:01\n",
      "   --------------------------------- ------ 5.2/6.2 MB 5.1 MB/s eta 0:00:01\n",
      "   ----------------------------------- ---- 5.5/6.2 MB 5.1 MB/s eta 0:00:01\n",
      "   ------------------------------------ --- 5.7/6.2 MB 5.1 MB/s eta 0:00:01\n",
      "   -------------------------------------- - 6.0/6.2 MB 5.1 MB/s eta 0:00:01\n",
      "   ---------------------------------------  6.2/6.2 MB 5.1 MB/s eta 0:00:01\n",
      "   ---------------------------------------  6.2/6.2 MB 5.1 MB/s eta 0:00:01\n",
      "   ---------------------------------------  6.2/6.2 MB 5.1 MB/s eta 0:00:01\n",
      "   ---------------------------------------- 6.2/6.2 MB 4.7 MB/s eta 0:00:00\n",
      "Downloading pytest-8.2.1-py3-none-any.whl (339 kB)\n",
      "   ---------------------------------------- 0.0/339.6 kB ? eta -:--:--\n",
      "   ------------------------------- -------- 266.2/339.6 kB 8.0 MB/s eta 0:00:01\n",
      "   ---------------------------------------  337.9/339.6 kB 7.0 MB/s eta 0:00:01\n",
      "   ---------------------------------------- 339.6/339.6 kB 3.0 MB/s eta 0:00:00\n",
      "Downloading pytest_cov-5.0.0-py3-none-any.whl (21 kB)\n",
      "Downloading pytest_mock-3.14.0-py3-none-any.whl (9.9 kB)\n",
      "Downloading repoze.lru-0.7-py3-none-any.whl (10 kB)\n",
      "Downloading wheel-0.43.0-py3-none-any.whl (65 kB)\n",
      "   ---------------------------------------- 0.0/65.8 kB ? eta -:--:--\n",
      "   ------------------------------------- -- 61.4/65.8 kB 3.2 MB/s eta 0:00:01\n",
      "   ---------------------------------------- 65.8/65.8 kB 881.5 kB/s eta 0:00:00\n",
      "Downloading coverage-7.5.3-cp312-cp312-win_amd64.whl (207 kB)\n",
      "   ---------------------------------------- 0.0/207.6 kB ? eta -:--:--\n",
      "   ---------------------------------------  204.8/207.6 kB 6.3 MB/s eta 0:00:01\n",
      "   ---------------------------------------  204.8/207.6 kB 6.3 MB/s eta 0:00:01\n",
      "   ---------------------------------------- 207.6/207.6 kB 2.5 MB/s eta 0:00:00\n",
      "Downloading pluggy-1.5.0-py3-none-any.whl (20 kB)\n",
      "Downloading iniconfig-2.0.0-py3-none-any.whl (5.9 kB)\n",
      "Installing collected packages: repoze.lru, pprintpp, wheel, pycountry, pluggy, iniconfig, coverage, pytest, pytest-mock, pytest-cov, pycountry-convert\n",
      "Successfully installed coverage-7.5.3 iniconfig-2.0.0 pluggy-1.5.0 pprintpp-0.4.0 pycountry-23.12.11 pycountry-convert-0.7.2 pytest-8.2.1 pytest-cov-5.0.0 pytest-mock-3.14.0 repoze.lru-0.7 wheel-0.43.0\n"
     ]
    }
   ],
   "source": [
    "!pip install pandas matplotlib requests\n",
    "!pip install pycountry-convert"
   ]
  },
  {
   "cell_type": "code",
   "execution_count": 1,
   "id": "fd122326-1dc5-4630-b7f1-85361e0d5677",
   "metadata": {},
   "outputs": [
    {
     "name": "stdout",
     "output_type": "stream",
     "text": [
      "Requirement already satisfied: scipy in c:\\users\\rishikesh.mane\\appdata\\local\\programs\\python\\python312\\lib\\site-packages (1.13.0)\n",
      "Requirement already satisfied: numpy<2.3,>=1.22.4 in c:\\users\\rishikesh.mane\\appdata\\local\\programs\\python\\python312\\lib\\site-packages (from scipy) (1.26.4)\n"
     ]
    }
   ],
   "source": [
    "!pip install scipy"
   ]
  },
  {
   "cell_type": "code",
   "execution_count": 2,
   "id": "575fabe9-bdcf-4740-b14d-0f88b44c7692",
   "metadata": {},
   "outputs": [],
   "source": [
    "import pandas as pd\n",
    "from matplotlib import pyplot as plt"
   ]
  },
  {
   "cell_type": "code",
   "execution_count": 3,
   "id": "0804c072-4f53-40ad-91d7-112252e77130",
   "metadata": {},
   "outputs": [],
   "source": [
    "df_1 = pd.read_csv(\"sr_1-Mobiletest's.csv\",index_col=False);\n",
    "df_2 = pd.read_csv(\"sr_2-Broadbandtest's.csv\",index_col=False);"
   ]
  },
  {
   "cell_type": "code",
   "execution_count": 4,
   "id": "548646bc-362d-4af6-9818-47dd061065cd",
   "metadata": {},
   "outputs": [
    {
     "data": {
      "text/plain": [
       "Index(['Unnamed: 0', 'Countries', 'Speed in Mbps'], dtype='object')"
      ]
     },
     "execution_count": 4,
     "metadata": {},
     "output_type": "execute_result"
    }
   ],
   "source": [
    "df_1.columns"
   ]
  },
  {
   "cell_type": "code",
   "execution_count": 5,
   "id": "3f7ea293-521e-49d2-8bb4-c96acf16ce7c",
   "metadata": {},
   "outputs": [
    {
     "name": "stdout",
     "output_type": "stream",
     "text": [
      "<class 'pandas.core.frame.DataFrame'>\n",
      "RangeIndex: 138 entries, 0 to 137\n",
      "Data columns (total 3 columns):\n",
      " #   Column         Non-Null Count  Dtype  \n",
      "---  ------         --------------  -----  \n",
      " 0   Unnamed: 0     138 non-null    int64  \n",
      " 1   Countries      138 non-null    object \n",
      " 2   Speed in Mbps  138 non-null    float64\n",
      "dtypes: float64(1), int64(1), object(1)\n",
      "memory usage: 3.4+ KB\n"
     ]
    }
   ],
   "source": [
    "df_1.info()"
   ]
  },
  {
   "cell_type": "markdown",
   "id": "8e35d444-6360-402c-ad31-66347a93c116",
   "metadata": {},
   "source": [
    "## making new data frame and adding ranking column in dataframe"
   ]
  },
  {
   "cell_type": "code",
   "execution_count": 6,
   "id": "04df97d4-f139-4888-8d1c-177b7459614b",
   "metadata": {},
   "outputs": [],
   "source": [
    "df_1 = df_1.rename(columns={\"Unnamed: 0\":\"rank\",\"Countries\":\"Countries\",\"Speed in Mbps\":\"Speed in Mbps\"})\n",
    "df_2 = df_2.rename(columns={\"Unnamed: 0\":\"rank_broadband\",\"Countries\":\"Countries\",\"Speed in Mbps\":\"Speed in Mbps\"})"
   ]
  },
  {
   "cell_type": "code",
   "execution_count": 7,
   "id": "a9764a1e-bcac-4871-8dec-f027713ac699",
   "metadata": {},
   "outputs": [],
   "source": [
    "# df_1.count()"
   ]
  },
  {
   "cell_type": "markdown",
   "id": "fa66ad0d-54ec-451e-939e-b4465bb34294",
   "metadata": {},
   "source": [
    "## using statistics - mean, max "
   ]
  },
  {
   "cell_type": "code",
   "execution_count": 8,
   "id": "f7d9eff2-7271-4532-bc1e-6df3f5ec6287",
   "metadata": {},
   "outputs": [
    {
     "data": {
      "text/html": [
       "<div>\n",
       "<style scoped>\n",
       "    .dataframe tbody tr th:only-of-type {\n",
       "        vertical-align: middle;\n",
       "    }\n",
       "\n",
       "    .dataframe tbody tr th {\n",
       "        vertical-align: top;\n",
       "    }\n",
       "\n",
       "    .dataframe thead th {\n",
       "        text-align: right;\n",
       "    }\n",
       "</style>\n",
       "<table border=\"1\" class=\"dataframe\">\n",
       "  <thead>\n",
       "    <tr style=\"text-align: right;\">\n",
       "      <th></th>\n",
       "      <th>rank</th>\n",
       "      <th>Speed in Mbps</th>\n",
       "    </tr>\n",
       "  </thead>\n",
       "  <tbody>\n",
       "    <tr>\n",
       "      <th>count</th>\n",
       "      <td>138.000000</td>\n",
       "      <td>138.000000</td>\n",
       "    </tr>\n",
       "    <tr>\n",
       "      <th>mean</th>\n",
       "      <td>68.500000</td>\n",
       "      <td>32.422319</td>\n",
       "    </tr>\n",
       "    <tr>\n",
       "      <th>std</th>\n",
       "      <td>39.981246</td>\n",
       "      <td>19.083786</td>\n",
       "    </tr>\n",
       "    <tr>\n",
       "      <th>min</th>\n",
       "      <td>0.000000</td>\n",
       "      <td>5.710000</td>\n",
       "    </tr>\n",
       "    <tr>\n",
       "      <th>25%</th>\n",
       "      <td>34.250000</td>\n",
       "      <td>17.760000</td>\n",
       "    </tr>\n",
       "    <tr>\n",
       "      <th>50%</th>\n",
       "      <td>68.500000</td>\n",
       "      <td>28.190000</td>\n",
       "    </tr>\n",
       "    <tr>\n",
       "      <th>75%</th>\n",
       "      <td>102.750000</td>\n",
       "      <td>43.925000</td>\n",
       "    </tr>\n",
       "    <tr>\n",
       "      <th>max</th>\n",
       "      <td>137.000000</td>\n",
       "      <td>100.220000</td>\n",
       "    </tr>\n",
       "  </tbody>\n",
       "</table>\n",
       "</div>"
      ],
      "text/plain": [
       "             rank  Speed in Mbps\n",
       "count  138.000000     138.000000\n",
       "mean    68.500000      32.422319\n",
       "std     39.981246      19.083786\n",
       "min      0.000000       5.710000\n",
       "25%     34.250000      17.760000\n",
       "50%     68.500000      28.190000\n",
       "75%    102.750000      43.925000\n",
       "max    137.000000     100.220000"
      ]
     },
     "execution_count": 8,
     "metadata": {},
     "output_type": "execute_result"
    }
   ],
   "source": [
    "df_1.describe()"
   ]
  },
  {
   "cell_type": "code",
   "execution_count": 9,
   "id": "93820e66-b2dc-4a57-abf3-91e0a8711b1c",
   "metadata": {},
   "outputs": [
    {
     "data": {
      "text/plain": [
       "rank             0\n",
       "Countries        0\n",
       "Speed in Mbps    0\n",
       "dtype: int64"
      ]
     },
     "execution_count": 9,
     "metadata": {},
     "output_type": "execute_result"
    }
   ],
   "source": [
    "df_1.isna().sum()"
   ]
  },
  {
   "cell_type": "code",
   "execution_count": 10,
   "id": "99729433-1c9a-43fd-8fa1-6bbdd4393bce",
   "metadata": {},
   "outputs": [],
   "source": [
    "# feature engineering - "
   ]
  },
  {
   "cell_type": "markdown",
   "id": "6f179fe2-83f7-4bda-89c3-e99ec4ab30ca",
   "metadata": {},
   "source": [
    "## Mapping 50 Rows"
   ]
  },
  {
   "cell_type": "code",
   "execution_count": 11,
   "id": "3a4ec1fd-0443-4289-9a93-27e0ede5d8e4",
   "metadata": {},
   "outputs": [],
   "source": [
    "# import matplotlib.ticker as ticker\n",
    "# tick_spacing = 1\n",
    "# df_1 = df_1[:50]\n",
    "# # plt.figure().set_figwidth(30)\n",
    "# fig, ax = plt.subplots(figsize=(16,10), dpi= 100)\n",
    "# ax.scatter(x = df_1['Countries'], y = df_1['Speed in Mbps'])\n",
    "# ax.xaxis.set_major_locator(ticker.MultipleLocator(tick_spacing))\n",
    "# plt.xticks(rotation=90)\n",
    "# plt.xlabel(\"Name of Countries\")\n",
    "# plt.ylabel(\"Speed in MBPS\")\n",
    "# plt.show()"
   ]
  },
  {
   "cell_type": "code",
   "execution_count": 12,
   "id": "c41b614a-fc18-49a1-8c8b-79c2e51a8957",
   "metadata": {},
   "outputs": [
    {
     "data": {
      "text/html": [
       "<div>\n",
       "<style scoped>\n",
       "    .dataframe tbody tr th:only-of-type {\n",
       "        vertical-align: middle;\n",
       "    }\n",
       "\n",
       "    .dataframe tbody tr th {\n",
       "        vertical-align: top;\n",
       "    }\n",
       "\n",
       "    .dataframe thead th {\n",
       "        text-align: right;\n",
       "    }\n",
       "</style>\n",
       "<table border=\"1\" class=\"dataframe\">\n",
       "  <thead>\n",
       "    <tr style=\"text-align: right;\">\n",
       "      <th></th>\n",
       "      <th>rank_broadband</th>\n",
       "      <th>Countries</th>\n",
       "      <th>Speed in Mbps</th>\n",
       "    </tr>\n",
       "  </thead>\n",
       "  <tbody>\n",
       "    <tr>\n",
       "      <th>0</th>\n",
       "      <td>0</td>\n",
       "      <td>Singapore   ...</td>\n",
       "      <td>205.13</td>\n",
       "    </tr>\n",
       "    <tr>\n",
       "      <th>1</th>\n",
       "      <td>1</td>\n",
       "      <td>Hong Kong (S...</td>\n",
       "      <td>183.24</td>\n",
       "    </tr>\n",
       "    <tr>\n",
       "      <th>2</th>\n",
       "      <td>2</td>\n",
       "      <td>Thailand    ...</td>\n",
       "      <td>170.14</td>\n",
       "    </tr>\n",
       "    <tr>\n",
       "      <th>3</th>\n",
       "      <td>3</td>\n",
       "      <td>Romania     ...</td>\n",
       "      <td>159.31</td>\n",
       "    </tr>\n",
       "    <tr>\n",
       "      <th>4</th>\n",
       "      <td>4</td>\n",
       "      <td>Switzerland ...</td>\n",
       "      <td>155.94</td>\n",
       "    </tr>\n",
       "  </tbody>\n",
       "</table>\n",
       "</div>"
      ],
      "text/plain": [
       "   rank_broadband                                          Countries  \\\n",
       "0               0                                    Singapore   ...   \n",
       "1               1                                    Hong Kong (S...   \n",
       "2               2                                    Thailand    ...   \n",
       "3               3                                    Romania     ...   \n",
       "4               4                                    Switzerland ...   \n",
       "\n",
       "   Speed in Mbps  \n",
       "0         205.13  \n",
       "1         183.24  \n",
       "2         170.14  \n",
       "3         159.31  \n",
       "4         155.94  "
      ]
     },
     "execution_count": 12,
     "metadata": {},
     "output_type": "execute_result"
    }
   ],
   "source": [
    "df_2.head()"
   ]
  },
  {
   "cell_type": "markdown",
   "id": "e095474e-1101-457b-ad29-91651e7440fc",
   "metadata": {},
   "source": [
    "## Mapping Countries with speed less than 60 Mbps"
   ]
  },
  {
   "cell_type": "code",
   "execution_count": 13,
   "id": "241a036f-426f-4f82-ad3a-6140a259c539",
   "metadata": {},
   "outputs": [
    {
     "data": {
      "text/plain": [
       "[<matplotlib.lines.Line2D at 0x21e69f872c0>]"
      ]
     },
     "execution_count": 13,
     "metadata": {},
     "output_type": "execute_result"
    },
    {
     "data": {
      "image/png": "[encoded data removed]",
      "text/plain": [
       "<Figure size 1600x1000 with 1 Axes>"
      ]
     },
     "metadata": {},
     "output_type": "display_data"
    }
   ],
   "source": [
    "df_compare = df_1['Speed in Mbps']\n",
    "tick_spacing = 1\n",
    "sub_set = df_1 [df_1['Speed in Mbps'] > 50]\n",
    "sub_set_2 = df_2 [df_2['Speed in Mbps'] > 50].head(19)\n",
    "plt.subplots(figsize=(16,10), dpi= 100)\n",
    "plt.xticks(rotation=90)\n",
    "plt.plot(sub_set['Countries'],sub_set['Speed in Mbps'])\n",
    "# plt.plot(sub_set_2['Countries'],sub_set_2['Speed in Mbps'])"
   ]
  },
  {
   "cell_type": "code",
   "execution_count": 14,
   "id": "535e19c8-e310-4449-b7f3-ab78ea849e60",
   "metadata": {},
   "outputs": [],
   "source": [
    "map_corr_sub_set_2 = sub_set_2[['rank_broadband','Speed in Mbps']]"
   ]
  },
  {
   "cell_type": "code",
   "execution_count": 15,
   "id": "f21ef0d4-9553-40e1-b94a-b9a8e93dfe7d",
   "metadata": {},
   "outputs": [],
   "source": [
    "correlations = map_corr_sub_set_2.corr()"
   ]
  },
  {
   "cell_type": "code",
   "execution_count": 16,
   "id": "33b0401a-7b4b-48e9-a66d-f7844d09d42b",
   "metadata": {},
   "outputs": [],
   "source": [
    "# import numpy as np\n",
    "# fig = plt.figure(figsize=(10,10))\n",
    "# ax = fig.add_subplot(111)\n",
    "# cax = ax.matshow(correlations, vmin=-1, vmax=1)\n",
    "# fig.colorbar(cax)\n",
    "# ticks = np.arange(0,9,1)\n",
    "# ax.set_xticks(ticks)\n",
    "# ax.set_yticks(ticks)\n",
    "# # ax.set_xticklabels(cols)\n",
    "# # ax.set_yticklabels(cols)\n",
    "# plt.show()"
   ]
  },
  {
   "cell_type": "code",
   "execution_count": 17,
   "id": "b9aba282-56f8-4d06-b8a8-d2fac271dffc",
   "metadata": {},
   "outputs": [],
   "source": [
    "# feature engineering # currently we don't have any outlier in dataset"
   ]
  },
  {
   "cell_type": "markdown",
   "id": "b701c19e-99ac-4992-a250-e2df10200eb9",
   "metadata": {},
   "source": [
    "## marking difference in internet speed "
   ]
  },
  {
   "cell_type": "code",
   "execution_count": 18,
   "id": "147d22c1-61a1-48c4-8139-6560fa131f69",
   "metadata": {},
   "outputs": [
    {
     "data": {
      "text/html": [
       "<div>\n",
       "<style scoped>\n",
       "    .dataframe tbody tr th:only-of-type {\n",
       "        vertical-align: middle;\n",
       "    }\n",
       "\n",
       "    .dataframe tbody tr th {\n",
       "        vertical-align: top;\n",
       "    }\n",
       "\n",
       "    .dataframe thead th {\n",
       "        text-align: right;\n",
       "    }\n",
       "</style>\n",
       "<table border=\"1\" class=\"dataframe\">\n",
       "  <thead>\n",
       "    <tr style=\"text-align: right;\">\n",
       "      <th></th>\n",
       "      <th>rank</th>\n",
       "      <th>Countries</th>\n",
       "      <th>Speed in Mbps</th>\n",
       "    </tr>\n",
       "  </thead>\n",
       "  <tbody>\n",
       "    <tr>\n",
       "      <th>0</th>\n",
       "      <td>0</td>\n",
       "      <td>South Korea ...</td>\n",
       "      <td>100.22</td>\n",
       "    </tr>\n",
       "    <tr>\n",
       "      <th>1</th>\n",
       "      <td>1</td>\n",
       "      <td>United Arab ...</td>\n",
       "      <td>99.67</td>\n",
       "    </tr>\n",
       "    <tr>\n",
       "      <th>2</th>\n",
       "      <td>2</td>\n",
       "      <td>China       ...</td>\n",
       "      <td>97.10</td>\n",
       "    </tr>\n",
       "    <tr>\n",
       "      <th>3</th>\n",
       "      <td>3</td>\n",
       "      <td>Qatar       ...</td>\n",
       "      <td>89.11</td>\n",
       "    </tr>\n",
       "    <tr>\n",
       "      <th>4</th>\n",
       "      <td>4</td>\n",
       "      <td>Netherlands ...</td>\n",
       "      <td>73.69</td>\n",
       "    </tr>\n",
       "  </tbody>\n",
       "</table>\n",
       "</div>"
      ],
      "text/plain": [
       "   rank                                          Countries  Speed in Mbps\n",
       "0     0                                    South Korea ...         100.22\n",
       "1     1                                    United Arab ...          99.67\n",
       "2     2                                    China       ...          97.10\n",
       "3     3                                    Qatar       ...          89.11\n",
       "4     4                                    Netherlands ...          73.69"
      ]
     },
     "execution_count": 18,
     "metadata": {},
     "output_type": "execute_result"
    }
   ],
   "source": [
    "df_1.head()"
   ]
  },
  {
   "cell_type": "code",
   "execution_count": 19,
   "id": "7ae00511-451c-4e90-9a39-c00cf2f6dbac",
   "metadata": {},
   "outputs": [],
   "source": [
    "df_1[\"Speed Difference\"] = df_1[\"Speed in Mbps\"].diff() \n",
    "df_1[\"Percentage Change\"] = df_1[\"Speed in Mbps\"].diff().pct_change() "
   ]
  },
  {
   "cell_type": "code",
   "execution_count": 20,
   "id": "a8b77f59-a190-4d1f-955c-fc1e3af17bc3",
   "metadata": {},
   "outputs": [
    {
     "data": {
      "text/html": [
       "<div>\n",
       "<style scoped>\n",
       "    .dataframe tbody tr th:only-of-type {\n",
       "        vertical-align: middle;\n",
       "    }\n",
       "\n",
       "    .dataframe tbody tr th {\n",
       "        vertical-align: top;\n",
       "    }\n",
       "\n",
       "    .dataframe thead th {\n",
       "        text-align: right;\n",
       "    }\n",
       "</style>\n",
       "<table border=\"1\" class=\"dataframe\">\n",
       "  <thead>\n",
       "    <tr style=\"text-align: right;\">\n",
       "      <th></th>\n",
       "      <th>rank</th>\n",
       "      <th>Countries</th>\n",
       "      <th>Speed in Mbps</th>\n",
       "      <th>Speed Difference</th>\n",
       "      <th>Percentage Change</th>\n",
       "    </tr>\n",
       "  </thead>\n",
       "  <tbody>\n",
       "    <tr>\n",
       "      <th>0</th>\n",
       "      <td>0</td>\n",
       "      <td>South Korea ...</td>\n",
       "      <td>100.22</td>\n",
       "      <td>NaN</td>\n",
       "      <td>NaN</td>\n",
       "    </tr>\n",
       "    <tr>\n",
       "      <th>1</th>\n",
       "      <td>1</td>\n",
       "      <td>United Arab ...</td>\n",
       "      <td>99.67</td>\n",
       "      <td>-0.55</td>\n",
       "      <td>NaN</td>\n",
       "    </tr>\n",
       "    <tr>\n",
       "      <th>2</th>\n",
       "      <td>2</td>\n",
       "      <td>China       ...</td>\n",
       "      <td>97.10</td>\n",
       "      <td>-2.57</td>\n",
       "      <td>3.672727</td>\n",
       "    </tr>\n",
       "    <tr>\n",
       "      <th>3</th>\n",
       "      <td>3</td>\n",
       "      <td>Qatar       ...</td>\n",
       "      <td>89.11</td>\n",
       "      <td>-7.99</td>\n",
       "      <td>2.108949</td>\n",
       "    </tr>\n",
       "    <tr>\n",
       "      <th>4</th>\n",
       "      <td>4</td>\n",
       "      <td>Netherlands ...</td>\n",
       "      <td>73.69</td>\n",
       "      <td>-15.42</td>\n",
       "      <td>0.929912</td>\n",
       "    </tr>\n",
       "  </tbody>\n",
       "</table>\n",
       "</div>"
      ],
      "text/plain": [
       "   rank                                          Countries  Speed in Mbps  \\\n",
       "0     0                                    South Korea ...         100.22   \n",
       "1     1                                    United Arab ...          99.67   \n",
       "2     2                                    China       ...          97.10   \n",
       "3     3                                    Qatar       ...          89.11   \n",
       "4     4                                    Netherlands ...          73.69   \n",
       "\n",
       "   Speed Difference  Percentage Change  \n",
       "0               NaN                NaN  \n",
       "1             -0.55                NaN  \n",
       "2             -2.57           3.672727  \n",
       "3             -7.99           2.108949  \n",
       "4            -15.42           0.929912  "
      ]
     },
     "execution_count": 20,
     "metadata": {},
     "output_type": "execute_result"
    }
   ],
   "source": [
    "df_1.head()"
   ]
  },
  {
   "cell_type": "code",
   "execution_count": 21,
   "id": "daad616f-0672-4c76-8a68-47fcd2b3ee04",
   "metadata": {},
   "outputs": [],
   "source": [
    "# two columns to add\n",
    "# mean of continent \n",
    "# diff bet speed in mbps and mean of continent \n",
    "# EDA on above"
   ]
  },
  {
   "cell_type": "code",
   "execution_count": null,
   "id": "da9389bd-6684-4a1f-b766-e10c4f24479f",
   "metadata": {},
   "outputs": [],
   "source": []
  },
  {
   "cell_type": "code",
   "execution_count": 22,
   "id": "32872b33-e6ae-441b-ad1f-e8bc18355290",
   "metadata": {},
   "outputs": [
    {
     "data": {
      "text/plain": [
       "138"
      ]
     },
     "execution_count": 22,
     "metadata": {},
     "output_type": "execute_result"
    }
   ],
   "source": [
    "import pandas as pd\n",
    "asia = ['Afghanistan', 'Bahrain', 'United Arab Emirates','Saudi Arabia', 'Kuwait', 'Qatar', 'Oman',\n",
    "    'Sultanate of Oman','Lebanon', 'Iraq', 'Yemen', 'Pakistan', 'Lebanon', 'Philippines', 'Jordan']\n",
    "europe = ['Germany','Spain', 'France', 'Italy', 'Netherlands', 'Norway', 'Sweden','Czech Republic', 'Finland',\n",
    "      'Denmark', 'Czech Republic', 'Switzerland', 'UK', 'UK&I', 'Poland', 'Greece','Austria',\n",
    "      'Bulgaria', 'Hungary', 'Luxembourg', 'Romania' , 'Slovakia', 'Estonia', 'Slovenia','Portugal',\n",
    "      'Croatia', 'Lithuania', 'Latvia','Serbia', 'Estonia', 'ME', 'Iceland' ]\n",
    "africa = ['Morocco', 'Tunisia', 'Africa', 'ZA', 'Kenya']\n",
    "other = ['USA', 'Australia', 'Reunion', 'Faroe Islands']\n",
    "\n",
    "def GetConti(Countries):\n",
    "    if Countries in asia:\n",
    "        return \"Asia\"\n",
    "    elif Countries in europe:\n",
    "        return \"Europe\"\n",
    "    elif Countries in africa:\n",
    "        return \"Africa\"\n",
    "    else:\n",
    "        return \"other\"\n",
    "\n",
    "df = pd.DataFrame(df_1[\"Countries\"])\n",
    "df_1['Continent'] = df['Countries'].apply(lambda x: GetConti(x))"
   ]
  },
  {
   "cell_type": "code",
   "execution_count": 23,
   "id": "6b3e51d0-bb6a-419f-a2b6-50dddb49f4a8",
   "metadata": {},
   "outputs": [
    {
     "data": {
      "text/html": [
       "<div>\n",
       "<style scoped>\n",
       "    .dataframe tbody tr th:only-of-type {\n",
       "        vertical-align: middle;\n",
       "    }\n",
       "\n",
       "    .dataframe tbody tr th {\n",
       "        vertical-align: top;\n",
       "    }\n",
       "\n",
       "    .dataframe thead th {\n",
       "        text-align: right;\n",
       "    }\n",
       "</style>\n",
       "<table border=\"1\" class=\"dataframe\">\n",
       "  <thead>\n",
       "    <tr style=\"text-align: right;\">\n",
       "      <th></th>\n",
       "      <th>rank</th>\n",
       "      <th>Countries</th>\n",
       "      <th>Speed in Mbps</th>\n",
       "      <th>Speed Difference</th>\n",
       "      <th>Percentage Change</th>\n",
       "      <th>continent</th>\n",
       "    </tr>\n",
       "  </thead>\n",
       "  <tbody>\n",
       "    <tr>\n",
       "      <th>0</th>\n",
       "      <td>0</td>\n",
       "      <td>South Korea ...</td>\n",
       "      <td>100.22</td>\n",
       "      <td>NaN</td>\n",
       "      <td>NaN</td>\n",
       "      <td>asia</td>\n",
       "    </tr>\n",
       "    <tr>\n",
       "      <th>1</th>\n",
       "      <td>1</td>\n",
       "      <td>United Arab ...</td>\n",
       "      <td>99.67</td>\n",
       "      <td>-0.55</td>\n",
       "      <td>NaN</td>\n",
       "      <td>other</td>\n",
       "    </tr>\n",
       "    <tr>\n",
       "      <th>2</th>\n",
       "      <td>2</td>\n",
       "      <td>China       ...</td>\n",
       "      <td>97.10</td>\n",
       "      <td>-2.57</td>\n",
       "      <td>3.672727</td>\n",
       "      <td>asia</td>\n",
       "    </tr>\n",
       "    <tr>\n",
       "      <th>3</th>\n",
       "      <td>3</td>\n",
       "      <td>Qatar       ...</td>\n",
       "      <td>89.11</td>\n",
       "      <td>-7.99</td>\n",
       "      <td>2.108949</td>\n",
       "      <td>europe</td>\n",
       "    </tr>\n",
       "    <tr>\n",
       "      <th>4</th>\n",
       "      <td>4</td>\n",
       "      <td>Netherlands ...</td>\n",
       "      <td>73.69</td>\n",
       "      <td>-15.42</td>\n",
       "      <td>0.929912</td>\n",
       "      <td>asia</td>\n",
       "    </tr>\n",
       "    <tr>\n",
       "      <th>...</th>\n",
       "      <td>...</td>\n",
       "      <td>...</td>\n",
       "      <td>...</td>\n",
       "      <td>...</td>\n",
       "      <td>...</td>\n",
       "      <td>...</td>\n",
       "    </tr>\n",
       "    <tr>\n",
       "      <th>133</th>\n",
       "      <td>133</td>\n",
       "      <td>Tajikistan  ...</td>\n",
       "      <td>10.20</td>\n",
       "      <td>-0.13</td>\n",
       "      <td>-0.409091</td>\n",
       "      <td>europe</td>\n",
       "    </tr>\n",
       "    <tr>\n",
       "      <th>134</th>\n",
       "      <td>134</td>\n",
       "      <td>Palestine   ...</td>\n",
       "      <td>8.12</td>\n",
       "      <td>-2.08</td>\n",
       "      <td>15.000000</td>\n",
       "      <td>other</td>\n",
       "    </tr>\n",
       "    <tr>\n",
       "      <th>135</th>\n",
       "      <td>135</td>\n",
       "      <td>Sudan       ...</td>\n",
       "      <td>8.08</td>\n",
       "      <td>-0.04</td>\n",
       "      <td>-0.980769</td>\n",
       "      <td>asia</td>\n",
       "    </tr>\n",
       "    <tr>\n",
       "      <th>136</th>\n",
       "      <td>136</td>\n",
       "      <td>Venezuela   ...</td>\n",
       "      <td>6.15</td>\n",
       "      <td>-1.93</td>\n",
       "      <td>47.250000</td>\n",
       "      <td>other</td>\n",
       "    </tr>\n",
       "    <tr>\n",
       "      <th>137</th>\n",
       "      <td>137</td>\n",
       "      <td>Afghanistan ...</td>\n",
       "      <td>5.71</td>\n",
       "      <td>-0.44</td>\n",
       "      <td>-0.772021</td>\n",
       "      <td>asia</td>\n",
       "    </tr>\n",
       "  </tbody>\n",
       "</table>\n",
       "<p>138 rows × 6 columns</p>\n",
       "</div>"
      ],
      "text/plain": [
       "     rank                                          Countries  Speed in Mbps  \\\n",
       "0       0                                    South Korea ...         100.22   \n",
       "1       1                                    United Arab ...          99.67   \n",
       "2       2                                    China       ...          97.10   \n",
       "3       3                                    Qatar       ...          89.11   \n",
       "4       4                                    Netherlands ...          73.69   \n",
       "..    ...                                                ...            ...   \n",
       "133   133                                    Tajikistan  ...          10.20   \n",
       "134   134                                    Palestine   ...           8.12   \n",
       "135   135                                    Sudan       ...           8.08   \n",
       "136   136                                    Venezuela   ...           6.15   \n",
       "137   137                                    Afghanistan ...           5.71   \n",
       "\n",
       "     Speed Difference  Percentage Change continent  \n",
       "0                 NaN                NaN      asia  \n",
       "1               -0.55                NaN     other  \n",
       "2               -2.57           3.672727      asia  \n",
       "3               -7.99           2.108949    europe  \n",
       "4              -15.42           0.929912      asia  \n",
       "..                ...                ...       ...  \n",
       "133             -0.13          -0.409091    europe  \n",
       "134             -2.08          15.000000     other  \n",
       "135             -0.04          -0.980769      asia  \n",
       "136             -1.93          47.250000     other  \n",
       "137             -0.44          -0.772021      asia  \n",
       "\n",
       "[138 rows x 6 columns]"
      ]
     },
     "execution_count": 23,
     "metadata": {},
     "output_type": "execute_result"
    }
   ],
   "source": [
    "df_1 = df_1.drop(['Continent'], axis=1)\n",
    "df_1"
   ]
  },
  {
   "cell_type": "code",
   "execution_count": 24,
   "id": "aafd9d5c-7b8d-4f0f-af23-6cc1aafe030f",
   "metadata": {},
   "outputs": [],
   "source": [
    "dt1 = df_1['continent'].value_counts()"
   ]
  },
  {
   "cell_type": "code",
   "execution_count": 25,
   "id": "22ef7001-f7b5-48e1-8898-1c93bb06dac4",
   "metadata": {},
   "outputs": [],
   "source": [
    "dt2 = df_1.groupby(\"continent\")[\"Speed in Mbps\"].mean()"
   ]
  },
  {
   "cell_type": "code",
   "execution_count": 26,
   "id": "7e4d4145-25c8-4b84-aab9-99c4a80b5c1c",
   "metadata": {},
   "outputs": [],
   "source": [
    "dt3 = dt1 - dt2"
   ]
  },
  {
   "cell_type": "code",
   "execution_count": 27,
   "id": "ef6919bd-353b-4b8c-aa77-7c6974d3aef3",
   "metadata": {},
   "outputs": [
    {
     "data": {
      "text/plain": [
       "continent\n",
       "asia            32.081846\n",
       "europe         -18.898947\n",
       "europeeurope   -10.931429\n",
       "other           15.319149\n",
       "dtype: float64"
      ]
     },
     "execution_count": 27,
     "metadata": {},
     "output_type": "execute_result"
    }
   ],
   "source": [
    "dt3"
   ]
  },
  {
   "cell_type": "code",
   "execution_count": 28,
   "id": "01f4a0e1-3e20-4ad1-9c11-7f598f74f129",
   "metadata": {},
   "outputs": [
    {
     "data": {
      "text/html": [
       "<div>\n",
       "<style scoped>\n",
       "    .dataframe tbody tr th:only-of-type {\n",
       "        vertical-align: middle;\n",
       "    }\n",
       "\n",
       "    .dataframe tbody tr th {\n",
       "        vertical-align: top;\n",
       "    }\n",
       "\n",
       "    .dataframe thead th {\n",
       "        text-align: right;\n",
       "    }\n",
       "</style>\n",
       "<table border=\"1\" class=\"dataframe\">\n",
       "  <thead>\n",
       "    <tr style=\"text-align: right;\">\n",
       "      <th></th>\n",
       "      <th>rank</th>\n",
       "      <th>Countries</th>\n",
       "      <th>Speed in Mbps</th>\n",
       "      <th>Speed Difference</th>\n",
       "      <th>Percentage Change</th>\n",
       "      <th>continent</th>\n",
       "    </tr>\n",
       "  </thead>\n",
       "  <tbody>\n",
       "    <tr>\n",
       "      <th>0</th>\n",
       "      <td>0</td>\n",
       "      <td>South Korea ...</td>\n",
       "      <td>100.22</td>\n",
       "      <td>NaN</td>\n",
       "      <td>NaN</td>\n",
       "      <td>asia</td>\n",
       "    </tr>\n",
       "    <tr>\n",
       "      <th>1</th>\n",
       "      <td>1</td>\n",
       "      <td>United Arab ...</td>\n",
       "      <td>99.67</td>\n",
       "      <td>-0.55</td>\n",
       "      <td>NaN</td>\n",
       "      <td>other</td>\n",
       "    </tr>\n",
       "    <tr>\n",
       "      <th>2</th>\n",
       "      <td>2</td>\n",
       "      <td>China       ...</td>\n",
       "      <td>97.10</td>\n",
       "      <td>-2.57</td>\n",
       "      <td>3.672727</td>\n",
       "      <td>asia</td>\n",
       "    </tr>\n",
       "    <tr>\n",
       "      <th>3</th>\n",
       "      <td>3</td>\n",
       "      <td>Qatar       ...</td>\n",
       "      <td>89.11</td>\n",
       "      <td>-7.99</td>\n",
       "      <td>2.108949</td>\n",
       "      <td>europe</td>\n",
       "    </tr>\n",
       "    <tr>\n",
       "      <th>4</th>\n",
       "      <td>4</td>\n",
       "      <td>Netherlands ...</td>\n",
       "      <td>73.69</td>\n",
       "      <td>-15.42</td>\n",
       "      <td>0.929912</td>\n",
       "      <td>asia</td>\n",
       "    </tr>\n",
       "    <tr>\n",
       "      <th>...</th>\n",
       "      <td>...</td>\n",
       "      <td>...</td>\n",
       "      <td>...</td>\n",
       "      <td>...</td>\n",
       "      <td>...</td>\n",
       "      <td>...</td>\n",
       "    </tr>\n",
       "    <tr>\n",
       "      <th>133</th>\n",
       "      <td>133</td>\n",
       "      <td>Tajikistan  ...</td>\n",
       "      <td>10.20</td>\n",
       "      <td>-0.13</td>\n",
       "      <td>-0.409091</td>\n",
       "      <td>europe</td>\n",
       "    </tr>\n",
       "    <tr>\n",
       "      <th>134</th>\n",
       "      <td>134</td>\n",
       "      <td>Palestine   ...</td>\n",
       "      <td>8.12</td>\n",
       "      <td>-2.08</td>\n",
       "      <td>15.000000</td>\n",
       "      <td>other</td>\n",
       "    </tr>\n",
       "    <tr>\n",
       "      <th>135</th>\n",
       "      <td>135</td>\n",
       "      <td>Sudan       ...</td>\n",
       "      <td>8.08</td>\n",
       "      <td>-0.04</td>\n",
       "      <td>-0.980769</td>\n",
       "      <td>asia</td>\n",
       "    </tr>\n",
       "    <tr>\n",
       "      <th>136</th>\n",
       "      <td>136</td>\n",
       "      <td>Venezuela   ...</td>\n",
       "      <td>6.15</td>\n",
       "      <td>-1.93</td>\n",
       "      <td>47.250000</td>\n",
       "      <td>other</td>\n",
       "    </tr>\n",
       "    <tr>\n",
       "      <th>137</th>\n",
       "      <td>137</td>\n",
       "      <td>Afghanistan ...</td>\n",
       "      <td>5.71</td>\n",
       "      <td>-0.44</td>\n",
       "      <td>-0.772021</td>\n",
       "      <td>asia</td>\n",
       "    </tr>\n",
       "  </tbody>\n",
       "</table>\n",
       "<p>138 rows × 6 columns</p>\n",
       "</div>"
      ],
      "text/plain": [
       "     rank                                          Countries  Speed in Mbps  \\\n",
       "0       0                                    South Korea ...         100.22   \n",
       "1       1                                    United Arab ...          99.67   \n",
       "2       2                                    China       ...          97.10   \n",
       "3       3                                    Qatar       ...          89.11   \n",
       "4       4                                    Netherlands ...          73.69   \n",
       "..    ...                                                ...            ...   \n",
       "133   133                                    Tajikistan  ...          10.20   \n",
       "134   134                                    Palestine   ...           8.12   \n",
       "135   135                                    Sudan       ...           8.08   \n",
       "136   136                                    Venezuela   ...           6.15   \n",
       "137   137                                    Afghanistan ...           5.71   \n",
       "\n",
       "     Speed Difference  Percentage Change continent  \n",
       "0                 NaN                NaN      asia  \n",
       "1               -0.55                NaN     other  \n",
       "2               -2.57           3.672727      asia  \n",
       "3               -7.99           2.108949    europe  \n",
       "4              -15.42           0.929912      asia  \n",
       "..                ...                ...       ...  \n",
       "133             -0.13          -0.409091    europe  \n",
       "134             -2.08          15.000000     other  \n",
       "135             -0.04          -0.980769      asia  \n",
       "136             -1.93          47.250000     other  \n",
       "137             -0.44          -0.772021      asia  \n",
       "\n",
       "[138 rows x 6 columns]"
      ]
     },
     "execution_count": 28,
     "metadata": {},
     "output_type": "execute_result"
    }
   ],
   "source": [
    "df_1"
   ]
  },
  {
   "cell_type": "markdown",
   "id": "47c4d0d1-2ad3-48fb-b738-3bc9bbafafd5",
   "metadata": {},
   "source": [
    "## EDA on Above Dataframe \"df_1\""
   ]
  },
  {
   "cell_type": "code",
   "execution_count": 64,
   "id": "8ba20c23-9aec-4ad2-b1cc-1f83dee9e283",
   "metadata": {},
   "outputs": [],
   "source": [
    "## Getting outliers using zscore "
   ]
  },
  {
   "cell_type": "code",
   "execution_count": 67,
   "id": "8f6133f5-4e6a-4bad-8222-c31c883b38b7",
   "metadata": {},
   "outputs": [],
   "source": [
    "import numpy as np\n",
    "from scipy import stats"
   ]
  },
  {
   "cell_type": "code",
   "execution_count": 68,
   "id": "bc9f1881-621d-4a17-a87a-0a8c51154ccf",
   "metadata": {},
   "outputs": [],
   "source": [
    "z = np.abs(stats.zscore(df_1['Speed in Mbps']))"
   ]
  },
  {
   "cell_type": "code",
   "execution_count": 69,
   "id": "f781adf8-07ec-4d82-a521-9b0ac5457b52",
   "metadata": {},
   "outputs": [],
   "source": [
    "threshold = -10\n",
    "outliers = df_1[z > threshold]"
   ]
  },
  {
   "cell_type": "code",
   "execution_count": 70,
   "id": "6478a731-f896-4516-b063-36c2cdb9f73a",
   "metadata": {},
   "outputs": [
    {
     "name": "stdout",
     "output_type": "stream",
     "text": [
      "     rank                                          Countries  Speed in Mbps  \\\n",
      "0       0                                    South Korea ...         100.22   \n",
      "1       1                                    United Arab ...          99.67   \n",
      "2       2                                    China       ...          97.10   \n",
      "3       3                                    Qatar       ...          89.11   \n",
      "4       4                                    Netherlands ...          73.69   \n",
      "..    ...                                                ...            ...   \n",
      "133   133                                    Tajikistan  ...          10.20   \n",
      "134   134                                    Palestine   ...           8.12   \n",
      "135   135                                    Sudan       ...           8.08   \n",
      "136   136                                    Venezuela   ...           6.15   \n",
      "137   137                                    Afghanistan ...           5.71   \n",
      "\n",
      "     Speed Difference  Percentage Change continent  \n",
      "0                 NaN                NaN      asia  \n",
      "1               -0.55                NaN     other  \n",
      "2               -2.57           3.672727      asia  \n",
      "3               -7.99           2.108949    europe  \n",
      "4              -15.42           0.929912      asia  \n",
      "..                ...                ...       ...  \n",
      "133             -0.13          -0.409091    europe  \n",
      "134             -2.08          15.000000     other  \n",
      "135             -0.04          -0.980769      asia  \n",
      "136             -1.93          47.250000     other  \n",
      "137             -0.44          -0.772021      asia  \n",
      "\n",
      "[138 rows x 6 columns]\n"
     ]
    }
   ],
   "source": [
    "print(outliers)"
   ]
  },
  {
   "cell_type": "code",
   "execution_count": 71,
   "id": "5a2b1f79-a0e1-427e-b4b9-269ec85be0b3",
   "metadata": {},
   "outputs": [
    {
     "name": "stdout",
     "output_type": "stream",
     "text": [
      "0      3.565575\n",
      "1      3.536650\n",
      "2      3.401490\n",
      "3      2.981284\n",
      "4      2.170325\n",
      "         ...   \n",
      "133    1.168703\n",
      "134    1.278093\n",
      "135    1.280197\n",
      "136    1.381698\n",
      "137    1.404838\n",
      "Name: Speed in Mbps, Length: 138, dtype: float64\n"
     ]
    }
   ],
   "source": [
    "print(z)"
   ]
  },
  {
   "cell_type": "code",
   "execution_count": 72,
   "id": "79c215aa-3202-4263-9cf0-573888302f0f",
   "metadata": {},
   "outputs": [],
   "source": [
    "## value counts for making range of countries with better internet speed "
   ]
  },
  {
   "cell_type": "code",
   "execution_count": 73,
   "id": "7015c733-5694-4e9c-9945-76aaf91dbdee",
   "metadata": {},
   "outputs": [
    {
     "data": {
      "text/plain": [
       "0      False\n",
       "1      False\n",
       "2      False\n",
       "3      False\n",
       "4      False\n",
       "       ...  \n",
       "133    False\n",
       "134    False\n",
       "135    False\n",
       "136    False\n",
       "137    False\n",
       "Name: Speed Difference, Length: 138, dtype: bool"
      ]
     },
     "execution_count": 73,
     "metadata": {},
     "output_type": "execute_result"
    }
   ],
   "source": [
    "(df_1['Speed Difference'] >= 50) & (df_1['Speed Difference'] < 100)"
   ]
  },
  {
   "cell_type": "code",
   "execution_count": 74,
   "id": "dbf4a6e2-ecbb-43a7-b736-117aca8760e7",
   "metadata": {},
   "outputs": [],
   "source": [
    "cluster1 = (df_1['Speed in Mbps'] >= 50) & (df_1['Speed in Mbps'] < 100)"
   ]
  },
  {
   "cell_type": "code",
   "execution_count": 75,
   "id": "c7a80352-cbf2-403c-b8b4-493eaa43374e",
   "metadata": {},
   "outputs": [
    {
     "data": {
      "text/html": [
       "<div>\n",
       "<style scoped>\n",
       "    .dataframe tbody tr th:only-of-type {\n",
       "        vertical-align: middle;\n",
       "    }\n",
       "\n",
       "    .dataframe tbody tr th {\n",
       "        vertical-align: top;\n",
       "    }\n",
       "\n",
       "    .dataframe thead th {\n",
       "        text-align: right;\n",
       "    }\n",
       "</style>\n",
       "<table border=\"1\" class=\"dataframe\">\n",
       "  <thead>\n",
       "    <tr style=\"text-align: right;\">\n",
       "      <th></th>\n",
       "      <th>rank</th>\n",
       "      <th>Countries</th>\n",
       "      <th>Speed in Mbps</th>\n",
       "      <th>Speed Difference</th>\n",
       "      <th>Percentage Change</th>\n",
       "      <th>continent</th>\n",
       "    </tr>\n",
       "  </thead>\n",
       "  <tbody>\n",
       "    <tr>\n",
       "      <th>1</th>\n",
       "      <td>1</td>\n",
       "      <td>United Arab ...</td>\n",
       "      <td>99.67</td>\n",
       "      <td>-0.55</td>\n",
       "      <td>NaN</td>\n",
       "      <td>other</td>\n",
       "    </tr>\n",
       "    <tr>\n",
       "      <th>2</th>\n",
       "      <td>2</td>\n",
       "      <td>China       ...</td>\n",
       "      <td>97.10</td>\n",
       "      <td>-2.57</td>\n",
       "      <td>3.672727</td>\n",
       "      <td>asia</td>\n",
       "    </tr>\n",
       "    <tr>\n",
       "      <th>3</th>\n",
       "      <td>3</td>\n",
       "      <td>Qatar       ...</td>\n",
       "      <td>89.11</td>\n",
       "      <td>-7.99</td>\n",
       "      <td>2.108949</td>\n",
       "      <td>europe</td>\n",
       "    </tr>\n",
       "    <tr>\n",
       "      <th>4</th>\n",
       "      <td>4</td>\n",
       "      <td>Netherlands ...</td>\n",
       "      <td>73.69</td>\n",
       "      <td>-15.42</td>\n",
       "      <td>0.929912</td>\n",
       "      <td>asia</td>\n",
       "    </tr>\n",
       "    <tr>\n",
       "      <th>5</th>\n",
       "      <td>5</td>\n",
       "      <td>Canada      ...</td>\n",
       "      <td>71.32</td>\n",
       "      <td>-2.37</td>\n",
       "      <td>-0.846304</td>\n",
       "      <td>other</td>\n",
       "    </tr>\n",
       "    <tr>\n",
       "      <th>6</th>\n",
       "      <td>6</td>\n",
       "      <td>Bulgaria    ...</td>\n",
       "      <td>67.67</td>\n",
       "      <td>-3.65</td>\n",
       "      <td>0.540084</td>\n",
       "      <td>other</td>\n",
       "    </tr>\n",
       "    <tr>\n",
       "      <th>7</th>\n",
       "      <td>7</td>\n",
       "      <td>Australia   ...</td>\n",
       "      <td>67.58</td>\n",
       "      <td>-0.09</td>\n",
       "      <td>-0.975342</td>\n",
       "      <td>asia</td>\n",
       "    </tr>\n",
       "    <tr>\n",
       "      <th>8</th>\n",
       "      <td>8</td>\n",
       "      <td>Norway      ...</td>\n",
       "      <td>67.40</td>\n",
       "      <td>-0.18</td>\n",
       "      <td>1.000000</td>\n",
       "      <td>other</td>\n",
       "    </tr>\n",
       "    <tr>\n",
       "      <th>9</th>\n",
       "      <td>9</td>\n",
       "      <td>Saudi Arabia...</td>\n",
       "      <td>62.33</td>\n",
       "      <td>-5.07</td>\n",
       "      <td>27.166667</td>\n",
       "      <td>asia</td>\n",
       "    </tr>\n",
       "    <tr>\n",
       "      <th>10</th>\n",
       "      <td>10</td>\n",
       "      <td>Croatia     ...</td>\n",
       "      <td>61.31</td>\n",
       "      <td>-1.02</td>\n",
       "      <td>-0.798817</td>\n",
       "      <td>europe</td>\n",
       "    </tr>\n",
       "    <tr>\n",
       "      <th>11</th>\n",
       "      <td>11</td>\n",
       "      <td>Switzerland ...</td>\n",
       "      <td>57.31</td>\n",
       "      <td>-4.00</td>\n",
       "      <td>2.921569</td>\n",
       "      <td>asia</td>\n",
       "    </tr>\n",
       "    <tr>\n",
       "      <th>12</th>\n",
       "      <td>12</td>\n",
       "      <td>Singapore   ...</td>\n",
       "      <td>56.87</td>\n",
       "      <td>-0.44</td>\n",
       "      <td>-0.890000</td>\n",
       "      <td>other</td>\n",
       "    </tr>\n",
       "    <tr>\n",
       "      <th>13</th>\n",
       "      <td>13</td>\n",
       "      <td>Albania     ...</td>\n",
       "      <td>56.52</td>\n",
       "      <td>-0.35</td>\n",
       "      <td>-0.204545</td>\n",
       "      <td>other</td>\n",
       "    </tr>\n",
       "    <tr>\n",
       "      <th>14</th>\n",
       "      <td>14</td>\n",
       "      <td>New Zealand ...</td>\n",
       "      <td>55.01</td>\n",
       "      <td>-1.51</td>\n",
       "      <td>3.314286</td>\n",
       "      <td>asia</td>\n",
       "    </tr>\n",
       "    <tr>\n",
       "      <th>15</th>\n",
       "      <td>15</td>\n",
       "      <td>Sweden      ...</td>\n",
       "      <td>51.86</td>\n",
       "      <td>-3.15</td>\n",
       "      <td>1.086093</td>\n",
       "      <td>other</td>\n",
       "    </tr>\n",
       "    <tr>\n",
       "      <th>16</th>\n",
       "      <td>16</td>\n",
       "      <td>Austria     ...</td>\n",
       "      <td>51.12</td>\n",
       "      <td>-0.74</td>\n",
       "      <td>-0.765079</td>\n",
       "      <td>asia</td>\n",
       "    </tr>\n",
       "    <tr>\n",
       "      <th>17</th>\n",
       "      <td>17</td>\n",
       "      <td>North Macedo...</td>\n",
       "      <td>51.07</td>\n",
       "      <td>-0.05</td>\n",
       "      <td>-0.932432</td>\n",
       "      <td>europe</td>\n",
       "    </tr>\n",
       "    <tr>\n",
       "      <th>18</th>\n",
       "      <td>18</td>\n",
       "      <td>Hong Kong (S...</td>\n",
       "      <td>50.31</td>\n",
       "      <td>-0.76</td>\n",
       "      <td>14.200000</td>\n",
       "      <td>asia</td>\n",
       "    </tr>\n",
       "  </tbody>\n",
       "</table>\n",
       "</div>"
      ],
      "text/plain": [
       "    rank                                          Countries  Speed in Mbps  \\\n",
       "1      1                                    United Arab ...          99.67   \n",
       "2      2                                    China       ...          97.10   \n",
       "3      3                                    Qatar       ...          89.11   \n",
       "4      4                                    Netherlands ...          73.69   \n",
       "5      5                                    Canada      ...          71.32   \n",
       "6      6                                    Bulgaria    ...          67.67   \n",
       "7      7                                    Australia   ...          67.58   \n",
       "8      8                                    Norway      ...          67.40   \n",
       "9      9                                    Saudi Arabia...          62.33   \n",
       "10    10                                    Croatia     ...          61.31   \n",
       "11    11                                    Switzerland ...          57.31   \n",
       "12    12                                    Singapore   ...          56.87   \n",
       "13    13                                    Albania     ...          56.52   \n",
       "14    14                                    New Zealand ...          55.01   \n",
       "15    15                                    Sweden      ...          51.86   \n",
       "16    16                                    Austria     ...          51.12   \n",
       "17    17                                    North Macedo...          51.07   \n",
       "18    18                                    Hong Kong (S...          50.31   \n",
       "\n",
       "    Speed Difference  Percentage Change continent  \n",
       "1              -0.55                NaN     other  \n",
       "2              -2.57           3.672727      asia  \n",
       "3              -7.99           2.108949    europe  \n",
       "4             -15.42           0.929912      asia  \n",
       "5              -2.37          -0.846304     other  \n",
       "6              -3.65           0.540084     other  \n",
       "7              -0.09          -0.975342      asia  \n",
       "8              -0.18           1.000000     other  \n",
       "9              -5.07          27.166667      asia  \n",
       "10             -1.02          -0.798817    europe  \n",
       "11             -4.00           2.921569      asia  \n",
       "12             -0.44          -0.890000     other  \n",
       "13             -0.35          -0.204545     other  \n",
       "14             -1.51           3.314286      asia  \n",
       "15             -3.15           1.086093     other  \n",
       "16             -0.74          -0.765079      asia  \n",
       "17             -0.05          -0.932432    europe  \n",
       "18             -0.76          14.200000      asia  "
      ]
     },
     "execution_count": 75,
     "metadata": {},
     "output_type": "execute_result"
    }
   ],
   "source": [
    "df_1[cluster1]"
   ]
  }
 ],
 "metadata": {
  "kernelspec": {
   "display_name": "Python 3 (ipykernel)",
   "language": "python",
   "name": "python3"
  },
  "language_info": {
   "codemirror_mode": {
    "name": "ipython",
    "version": 3
   },
   "file_extension": ".py",
   "mimetype": "text/x-python",
   "name": "python",
   "nbconvert_exporter": "python",
   "pygments_lexer": "ipython3",
   "version": "3.12.3"
  }
 },
 "nbformat": 4,
 "nbformat_minor": 5
}
